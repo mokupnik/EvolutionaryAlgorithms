{
  "nbformat": 4,
  "nbformat_minor": 0,
  "metadata": {
    "colab": {
      "name": "7.2.ipynb",
      "provenance": [],
      "collapsed_sections": []
    },
    "kernelspec": {
      "name": "python2",
      "display_name": "Python 2"
    }
  },
  "cells": [
    {
      "cell_type": "code",
      "metadata": {
        "id": "SU7B3V8v9vFb",
        "colab": {
          "base_uri": "https://localhost:8080/"
        },
        "outputId": "4887508e-1e85-46ba-ebc0-566ffdc7848c"
      },
      "source": [
        "!pip install pyneurgen\n"
      ],
      "execution_count": null,
      "outputs": [
        {
          "output_type": "stream",
          "text": [
            "Collecting pyneurgen\n",
            "\u001b[?25l  Downloading https://files.pythonhosted.org/packages/df/3a/21a7d310c3acb28c9a26b0a78a6b52d7ee00294ad19f65735dd4e8a6a887/pyneurgen-0.3.1.tar.gz (581kB)\n",
            "\u001b[K     |████████████████████████████████| 583kB 5.7MB/s \n",
            "\u001b[?25hBuilding wheels for collected packages: pyneurgen\n",
            "  Building wheel for pyneurgen (setup.py) ... \u001b[?25l\u001b[?25hdone\n",
            "  Created wheel for pyneurgen: filename=pyneurgen-0.3.1-cp27-none-any.whl size=43733 sha256=d553fae160b0b1827d46213b0991bc22d413add00a671eb4b79877c6e6adbfe5\n",
            "  Stored in directory: /root/.cache/pip/wheels/34/85/2c/f272a1128673bb701853306cf5a543e8208581f7ccd8e105df\n",
            "Successfully built pyneurgen\n",
            "Installing collected packages: pyneurgen\n",
            "Successfully installed pyneurgen-0.3.1\n"
          ],
          "name": "stdout"
        }
      ]
    },
    {
      "cell_type": "code",
      "metadata": {
        "id": "qcVbBhtWO-8p"
      },
      "source": [
        "\n",
        "import numpy as np\n",
        "import pandas as pd\n",
        "from pyneurgen.grammatical_evolution import GrammaticalEvolution\n",
        "from pyneurgen.fitness import FitnessElites, FitnessTournament\n",
        "from pyneurgen.fitness import ReplacementTournament, MAX, MIN, CENTER"
      ],
      "execution_count": null,
      "outputs": []
    },
    {
      "cell_type": "code",
      "metadata": {
        "id": "8bseMhqRsE95"
      },
      "source": [
        "images = np.loadtxt('https://raw.githubusercontent.com/mokupnik/Data-Mining-/master/ImageRawReduced.txt').T\n",
        "classes = np.loadtxt('https://raw.githubusercontent.com/mokupnik/Data-Mining-/master/ImageExpertReduced.txt')"
      ],
      "execution_count": null,
      "outputs": []
    },
    {
      "cell_type": "code",
      "metadata": {
        "colab": {
          "base_uri": "https://localhost:8080/"
        },
        "id": "E9TmBcsQsGT4",
        "outputId": "22555bdc-3d0d-483e-dd6c-ecd071a3b992"
      },
      "source": [
        "np.random.randint(0, 9350,4)"
      ],
      "execution_count": null,
      "outputs": [
        {
          "output_type": "execute_result",
          "data": {
            "text/plain": [
              "array([6088, 2634, 3234, 6791])"
            ]
          },
          "metadata": {
            "tags": []
          },
          "execution_count": 4
        }
      ]
    },
    {
      "cell_type": "markdown",
      "metadata": {
        "id": "i_5Lw1zg4XGf"
      },
      "source": [
        "## 7.2 - Classification rules "
      ]
    },
    {
      "cell_type": "code",
      "metadata": {
        "id": "Xk-y11w1v1wE"
      },
      "source": [
        "bnf =\"\"\"\n",
        "<condition>         ::= <condition> and <condition> | <condition> or <condition> |\n",
        "                        <value> <relop> <value> | <value> <relop> <int-const>\n",
        "<int-const>         ::= 0 | 1 | 2 | 3 | 4 | 5 | 6 | 7 | 8 | 9 | 10 | (<int-const> * <int-const>)\n",
        "<relop>             ::= == | > | < \n",
        "<value>             ::= point[<index>]\n",
        "<index>             ::= 0 | 1 | 2\n",
        "<S>                 ::=\n",
        "import numpy as np\n",
        "images = np.loadtxt('https://raw.githubusercontent.com/mokupnik/Data-Mining-/master/ImageRawReduced.txt').T\n",
        "classes = np.loadtxt('https://raw.githubusercontent.com/mokupnik/Data-Mining-/master/ImageExpertReduced.txt')\n",
        "x = np.random.randint(0,9350,4)\n",
        "total = 0\n",
        "for i in x:\n",
        "    point = images[i]\n",
        "    cl = classes[i]\n",
        "\n",
        "    if <condition>:\n",
        "        prediction = <index>\n",
        "    elif <condition>:\n",
        "        prediction = <index>\n",
        "    else:\n",
        "        prediction = <index>\n",
        "        \n",
        "    if prediction == cl:\n",
        "        total += 0\n",
        "    else:\n",
        "        total += 50\n",
        "fitness = total\n",
        "self.set_bnf_variable('<fitness>', fitness)\n",
        "        \"\"\""
      ],
      "execution_count": null,
      "outputs": []
    },
    {
      "cell_type": "code",
      "metadata": {
        "id": "8j8hi42v4VrQ"
      },
      "source": [
        "bnf =\"\"\"\n",
        "<condition>         ::= <condition> and <condition> | <condition> or <condition> |\n",
        "                        <value> <relop> <int-const>\n",
        "<int-const>         ::= 0 | 1 | 2 | 3 | 4 | 5 | 6 | 7 | 8 | 9 | 10 | (<int-const> * <int-const>)\n",
        "<relop>             ::= == | > | < \n",
        "<value>             ::= point[<index>]\n",
        "<index>             ::= 0 | 1 | 2\n",
        "<S>                 ::=\n",
        "import numpy as np\n",
        "images = np.loadtxt('https://raw.githubusercontent.com/mokupnik/Data-Mining-/master/ImageRawReduced.txt').T\n",
        "classes = np.loadtxt('https://raw.githubusercontent.com/mokupnik/Data-Mining-/master/ImageExpertReduced.txt')\n",
        "i = np.random.randint(0, 9350)\n",
        "point = images[i]\n",
        "cl = classes[i]\n",
        "\n",
        "if <condition>:\n",
        "    prediction = <index>\n",
        "else:\n",
        "    prediction = <index>\n",
        "    \n",
        "if prediction == cl:        \n",
        "    total = 0\n",
        "else:\n",
        "    total = 50\n",
        "fitness = total\n",
        "self.set_bnf_variable('<fitness>', fitness)\n",
        "        \"\"\""
      ],
      "execution_count": null,
      "outputs": []
    },
    {
      "cell_type": "code",
      "metadata": {
        "colab": {
          "base_uri": "https://localhost:8080/"
        },
        "id": "Tro3Ur76oKXZ",
        "outputId": "9d0e5361-69a3-4c68-d3f2-09ce47fdb812"
      },
      "source": [
        "ges = GrammaticalEvolution()\n",
        "\n",
        "ges.set_bnf(bnf)\n",
        "ges.set_genotype_length(start_gene_length=50,\n",
        "                        max_gene_length=100)\n",
        "ges.set_population_size(100)\n",
        "ges.set_wrap(True)\n",
        "\n",
        "ges.set_max_generations(500)\n",
        "ges.set_fitness_type(MIN, .01)\n",
        "ges.set_max_program_length(1000)\n",
        "ges.set_timeouts(30, 420)\n",
        "ges.set_fitness_fail(100.0)\n",
        "\n",
        "\n",
        "ges.set_fitness_selections(\n",
        "    FitnessElites(ges.fitness_list, .05),\n",
        "    FitnessTournament(ges.fitness_list, tournament_size=2))\n",
        "ges.set_max_fitness_rate(.5)\n",
        "\n",
        "\n",
        "ges.set_mutation_rate(.025)\n",
        "ges.set_fitness_selections(\n",
        "    FitnessElites(ges.fitness_list, .05),\n",
        "    FitnessTournament(ges.fitness_list, tournament_size=2))\n",
        "ges.set_max_fitness_rate(.5)\n",
        "\n",
        "ges.set_crossover_rate(.2)\n",
        "ges.set_children_per_crossover(2)\n",
        "ges.set_mutation_type('m')\n",
        "ges.set_max_fitness_rate(.25)\n",
        "\n",
        "ges.set_replacement_selections(\n",
        "        ReplacementTournament(ges.fitness_list, tournament_size=3))\n",
        "ges.set_maintain_history(True)\n",
        "\n",
        "\n",
        "ges.create_genotypes()\n",
        "print ges.run()"
      ],
      "execution_count": null,
      "outputs": [
        {
          "output_type": "stream",
          "text": [
            "43\n"
          ],
          "name": "stdout"
        }
      ]
    },
    {
      "cell_type": "code",
      "metadata": {
        "id": "csvm6wNcBTRR",
        "colab": {
          "base_uri": "https://localhost:8080/"
        },
        "outputId": "eb0c835b-681e-4d54-9863-6353702e95e5"
      },
      "source": [
        "best_genotype = ges.get_best_member()\n",
        "print(best_genotype.get_program())\n"
      ],
      "execution_count": null,
      "outputs": [
        {
          "output_type": "stream",
          "text": [
            "import numpy as np\n",
            "images = np.loadtxt('https://raw.githubusercontent.com/mokupnik/Data-Mining-/master/ImageRawReduced.txt').T\n",
            "classes = np.loadtxt('https://raw.githubusercontent.com/mokupnik/Data-Mining-/master/ImageExpertReduced.txt')\n",
            "x = np.random.randint(0,9350,4)\n",
            "total = 0\n",
            "for i in x:\n",
            "    point = images[i]\n",
            "    cl = classes[i]\n",
            "    if point[1]==5 or point[1]==1:\n",
            "        prediction = 1\n",
            "    elif point[1]==2:\n",
            "        prediction = 2\n",
            "    else:\n",
            "        prediction = 1\n",
            "\n",
            "    if prediction == cl:\n",
            "        total += 0\n",
            "    else:\n",
            "        total += 50\n",
            "fitness = total\n",
            "self.set_bnf_variable('<fitness>', fitness)\n",
            "\n"
          ],
          "name": "stdout"
        }
      ]
    },
    {
      "cell_type": "code",
      "metadata": {
        "colab": {
          "base_uri": "https://localhost:8080/"
        },
        "id": "UgTo3SKr5bgw",
        "outputId": "c06322f4-c7f3-41e1-a68c-49c5d5b398f4"
      },
      "source": [
        "print(ges.fitness_list)"
      ],
      "execution_count": null,
      "outputs": [
        {
          "output_type": "stream",
          "text": [
            "[[100.0, 0], [0.0, 1], [50.0, 2], [100.0, 3], [100.0, 4], [50.0, 5], [50.0, 6], [100.0, 7], [50.0, 8], [100.0, 9], [100.0, 10], [50.0, 11], [100.0, 12], [100.0, 13], [100.0, 14], [50.0, 15], [0.0, 16], [50.0, 17], [50.0, 18], [100.0, 19], [50.0, 20], [50.0, 21], [100.0, 22], [100.0, 23], [100.0, 24], [50.0, 25], [100.0, 26], [50.0, 27], [100.0, 28], [100.0, 29], [50.0, 30], [100.0, 31], [100.0, 32], [50.0, 33], [100.0, 34], [100.0, 35], [100.0, 36], [100.0, 37], [100.0, 38], [50.0, 39], [50.0, 40], [50.0, 41], [50.0, 42], [100.0, 43], [50.0, 44], [50.0, 45], [50.0, 46], [100.0, 47], [50.0, 48], [50.0, 49], [50.0, 50], [100.0, 51], [100.0, 52], [50.0, 53], [50.0, 54], [50.0, 55], [50.0, 56], [50.0, 57], [50.0, 58], [50.0, 59], [100.0, 60], [100.0, 61], [50.0, 62], [100.0, 63], [100.0, 64], [100.0, 65], [50.0, 66], [100.0, 67], [100.0, 68], [100.0, 69], [50.0, 70], [100.0, 71], [50.0, 72], [100.0, 73], [100.0, 74], [100.0, 75], [50.0, 76], [100.0, 77], [100.0, 78], [0.0, 79], [0.0, 80], [100.0, 81], [100.0, 82], [100.0, 83], [100.0, 84], [100.0, 85], [50.0, 86], [50.0, 87], [100.0, 88], [0.0, 89], [0.0, 90], [50.0, 91], [50.0, 92], [100.0, 93], [50.0, 94], [0.0, 95], [100.0, 96], [50.0, 97], [100.0, 98], [0.0, 99]]\n"
          ],
          "name": "stdout"
        }
      ]
    }
  ]
}