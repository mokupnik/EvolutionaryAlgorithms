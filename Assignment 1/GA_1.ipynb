{
  "nbformat": 4,
  "nbformat_minor": 0,
  "metadata": {
    "colab": {
      "name": "GA_1.ipynb",
      "provenance": [],
      "collapsed_sections": []
    },
    "kernelspec": {
      "name": "python3",
      "display_name": "Python 3"
    }
  },
  "cells": [
    {
      "cell_type": "code",
      "metadata": {
        "id": "Mn456Yngn4Cy"
      },
      "source": [
        "import numpy as np\n",
        "import pandas as pd\n",
        "import matplotlib.pyplot as plt\n",
        "import time\n",
        "\n",
        "%matplotlib inline"
      ],
      "execution_count": null,
      "outputs": []
    },
    {
      "cell_type": "code",
      "metadata": {
        "id": "dCJchVlhiZOR"
      },
      "source": [
        "def PMX(ind1, ind2):\n",
        "    p1 = ind1[0]\n",
        "    p2 = ind2[0]\n",
        "    print(p1)\n",
        "    print(p2)\n",
        "    c1 = np.zeros(p1.shape, dtype=p1.dtype) - 1\n",
        "\n",
        "    c2 = np.zeros(p2.shape, dtype=p2.dtype) - 1\n",
        "    start_point = np.random.randint(0, len(c1))\n",
        "    end_point = np.random.randint(start_point,len(c1))\n",
        "    c1[start_point:end_point] = p1[start_point:end_point]\n",
        "    c2[start_point:end_point] = p2[start_point:end_point]\n",
        "\n",
        "    c1 = helper(p1,p2,c1,start_point,end_point)\n",
        "    c2 = helper(p2,p1,c2,start_point,end_point)\n",
        "\n",
        "    return np.hstack[c1,ind1[1]], np.hstack[c2,ind2[1]]\n",
        "\n",
        "\n",
        "def helper(p1, p2, c, sp, ep):\n",
        "    index = sp;\n",
        "    for x in p2[sp:ep]:\n",
        "        if x not in c:\n",
        "            j = c[index]\n",
        "            c = rec_helper(p2,j, c, x)\n",
        "        index +=1\n",
        "    c[c == -1] = p2[c==-1]\n",
        "\n",
        "\n",
        "    return c\n",
        "        \n",
        "def rec_helper(p2,x,c,y):\n",
        "    print(p2)\n",
        "    k = c[p2 == x]\n",
        "    if k == -1:\n",
        "        c[p2 == x] = y\n",
        "    else:\n",
        "        c = rec_helper(p2,k,c,y)\n",
        "    return c;    \n",
        "        \n"
      ],
      "execution_count": null,
      "outputs": []
    },
    {
      "cell_type": "code",
      "metadata": {
        "id": "RTz3yDDywfal"
      },
      "source": [
        "def EA(Mu, Lambda,n,function, plus,x,y):\n",
        "\n",
        "    chromosome_length = n\n",
        "    starting_population = Random_Population(x,y,Mu,n)\n",
        "    number_of_offspring = Lambda\n",
        "    number_of_iterations = 1500\n",
        "    population_size = Mu\n",
        "    parents_objective_values = np.zeros(population_size)\n",
        "    current_population = starting_population\n",
        "    parents = current_population\n",
        "    fitness_value_mean = []\n",
        "    \n",
        "    for i in range(Mu):\n",
        "        parents_objective_values[i] = function(current_population[i,0],n)\n",
        "\n",
        "    objective_values = parents_objective_values\n",
        "    max = objective_values.min()\n",
        "    for t in range(number_of_iterations):\n",
        "\n",
        " \n",
        "        fitness_values = objective_values.max() - objective_values\n",
        "        if fitness_values.sum() > 0:\n",
        "            fitness_values = fitness_values / fitness_values.sum()\n",
        "        else:\n",
        "            fitness_values = np.ones(Mu) / population_size\n",
        "\n",
        "\n",
        "        parent_indices = np.random.choice(population_size, number_of_offspring, True, fitness_values).astype(np.int64)\n",
        "\n",
        "        \n",
        "\n",
        "        children_population = np.zeros((number_of_offspring, 2,chromosome_length), dtype=np.float64)\n",
        "\n",
        "        for i in range(int(number_of_offspring/2)):\n",
        "            children_population[2*i], children_population[2*i+1] = current_population[parent_indices[2*i]].copy(), current_population[parent_indices[2*i+1]].copy()\n",
        "            if np.mod(number_of_offspring, 2) == 1:\n",
        "                children_population[-1, :] = current_population[parent_indices[-1]]\n",
        "\n",
        "\n",
        "        #mutating children\n",
        "        for i in range(number_of_offspring):\n",
        "                children_population[i] = mutation(children_population[i].copy(),n)\n",
        "\n",
        "\n",
        "                \n",
        "       \n",
        "        children_objective_values = np.zeros(number_of_offspring)\n",
        "        for i in range(number_of_offspring):\n",
        "            children_objective_values[i] = function(children_population[i,0,:],n)\n",
        "\n",
        "        if plus:\n",
        "            objective_values = np.hstack([objective_values, children_objective_values])\n",
        "        \n",
        "            I = np.argsort(objective_values)\n",
        "            I = I[:Mu]\n",
        "\n",
        "            objective_values = objective_values[I]\n",
        "            current_population = np.vstack([parents, children_population])\n",
        "            parents = current_population[I]\n",
        "            current_population = parents\n",
        "  \n",
        "\n",
        "\n",
        "        else:\n",
        "            objective_values = children_objective_values\n",
        "            I = np.argsort(objective_values)\n",
        "            I = I[:Mu]\n",
        "            objective_values = objective_values[I]\n",
        "\n",
        "            current_population = children_population[I]\n",
        "            \n",
        "\n",
        "        #print('%3d %12.8f %12.8f %12.8f %12.8f' % (t, objective_values.min(), objective_values.mean(), objective_values.max(), objective_values.std()))\n",
        "    return (max, objective_values.min(), objective_values.mean(), objective_values.std())\n",
        "\n",
        "\n",
        "\n",
        "def mutation(P,d):\n",
        "    tz = 0.8/np.sqrt((2*np.sqrt(d)))\n",
        "    t = 0.8/np.sqrt(2*d)\n",
        "    n = P.shape[1]\n",
        "    e_0 = np.random.normal(0,tz)\n",
        "    randoms = np.random.normal(0,t,n)  \n",
        "    P[1,:] = P[1,:] * np.exp(randoms + e_0)\n",
        "    randoms = np.random.normal(0,P[1,:],n)\n",
        "    P[0,:] = P[0,:] + randoms\n",
        "    \n",
        "    return P \n",
        "\n"
      ],
      "execution_count": null,
      "outputs": []
    },
    {
      "cell_type": "code",
      "metadata": {
        "id": "2Ef3g06rGdn-"
      },
      "source": [
        "\n",
        "def Rastrigin_function(x,n):\n",
        "    s = np.sum(x**2-10*np.cos(2*np.pi*x))\n",
        "    y = 10*n + s\n",
        "    return y\n",
        "\n",
        "def Schewel_function(x,n):\n",
        "    s = np.sum(-x*np.sin(np.sqrt(np.abs(x))));\n",
        "    return 418.9829*n+s;\n",
        "\n",
        "\n",
        "def Random_Population(x,y,Mu,d):\n",
        "    lin = np.linspace(x,y,1000)\n",
        "    X = np.zeros((Mu,2,d))\n",
        "    for x in range(Mu):\n",
        "        X[x,0] = np.random.choice(lin, d)\n",
        "        X[x,1] = np.random.uniform(0,1,size=d)\n",
        "    return X    \n",
        "\n",
        "\n",
        "def Sum_Square(x,n): # - 10,10\n",
        "    s = 0\n",
        "    for i in range(n):\n",
        "        s += i*x[i]**2; \n",
        "\n",
        "    return s\n",
        "\n",
        "\n",
        "def Sphere_function(x,n): #-5.12, 5.12\n",
        "    return np.sum(x**2)\n",
        "\n",
        "def Dixon_function(x,n): # -10,10\n",
        "    s=0\n",
        "    for i in range(1,n):\n",
        "        s += i*(2*(x[i]**2) - x[i-1])**2\n",
        "    s += (x[0]-1)**2\n",
        "    return s\n",
        "\n",
        "def Zakharov_function(x,n): # -5,10\n",
        "    s1= 0\n",
        "    s2=0\n",
        "    for i in range(n):\n",
        "        s1 += x[i]**2\n",
        "        s2 += 0.5*i*x[i]\n",
        "    return s1+s2**2+s2**4;\n",
        "\n",
        "\n",
        "X = Random_Population(-10,10,500,50)\n",
        "Zakharov_Results = {}\n",
        "Zakharov_Results[10]= list(EA(500,1500,10,Zakharov_function,True,-5,10))\n",
        "Zakharov_Results[50]= list(EA(500,1500,50,Zakharov_function,True, -5,10))\n",
        "Zakharov_Results[100]= list(EA(500,1500,100,Zakharov_function,True, -5, 10))\n",
        "\n",
        "\n",
        "#EA(500,1500,50,Sum_Square,True, -10,10)\n",
        "#EA(500,1000,50,Schewel_function,True,-500,500)\n",
        "#EA(500,1500,50,Sphere_function,True,x,y)\n",
        "#EA(500,1500,50,Rastrigin_function, True,-5.12,5.12)"
      ],
      "execution_count": null,
      "outputs": []
    },
    {
      "cell_type": "code",
      "metadata": {
        "id": "CVQVnOghhFVB"
      },
      "source": [
        "Dixon_Results = {}\n",
        "Dixon_Results[10] = list(EA(500,1500,10,Dixon_function,True,-10,10))\n",
        "Dixon_Results[50] = list(EA(500,1500,50,Dixon_function,True,-10,10))\n",
        "Dixon_Results[100] = list(EA(500,1500,100,Dixon_function,True,-10,10))"
      ],
      "execution_count": null,
      "outputs": []
    },
    {
      "cell_type": "code",
      "metadata": {
        "id": "chnaa8r5R21h"
      },
      "source": [
        "\n",
        "Sum_Square_Results = {}\n",
        "Sum_Square_Results[10] = list(EA(500,1500,10,Sum_Square,True, -10,10))\n",
        "Sum_Square_Results[50] = list(EA(500,1500,50,Sum_Square,True, -10,10))\n",
        "Sum_Square_Results[100] = list(EA(500,1500,100,Sum_Square,True, -10,10))\n"
      ],
      "execution_count": null,
      "outputs": []
    },
    {
      "cell_type": "code",
      "metadata": {
        "id": "q7Nc-SUghUxJ"
      },
      "source": [
        "Rastrigin_Results = {}\n",
        "Rastrigin_Results[50] = list(EA(500,1500,50,Rastrigin_function, True,-5.12,5.12))\n",
        "Rastrigin_Results[10] = list(EA(500,1500,10,Rastrigin_function, True,-5.12,5.12))\n",
        "Rastrigin_Results[100] = list(EA(500,1500,100,Rastrigin_function, True,-5.12,5.12))"
      ],
      "execution_count": null,
      "outputs": []
    },
    {
      "cell_type": "code",
      "metadata": {
        "id": "J-PZu_Ofqaqs"
      },
      "source": [
        "\n",
        "def Sphere_function(x,n): #-5.12, 5.12\n",
        "    return np.sum(x**2)\n",
        "    \n",
        "Sphere_Results = {}\n",
        "Sphere_Results[10] = list(EA(500,1500,10,Sphere_function,True,-5.12,5.12))\n",
        "Sphere_Results[50] = list(EA(500,1500,50,Sphere_function,True,-5.12,5.12))\n",
        "Sphere_Results[100] = list(EA(500,1500,100,Sphere_function,True,-5.12,5.12))\n"
      ],
      "execution_count": null,
      "outputs": []
    },
    {
      "cell_type": "code",
      "metadata": {
        "colab": {
          "base_uri": "https://localhost:8080/"
        },
        "id": "67Brw_yptvMI",
        "outputId": "786d6a63-f4de-41c2-e65e-710751517795"
      },
      "source": [
        "print(Rastrigin_Results)\n",
        "print(Sphere_Results)"
      ],
      "execution_count": null,
      "outputs": [
        {
          "output_type": "stream",
          "text": [
            "{50: [713.5878399805799, 288.6871078279286, 288.68710950357143, 4.160944532025629e-07], 10: [64.00116618113884, 12.934457666574616, 12.934457666574616, 0.0], 100: [1577.0611328108994, 695.7688701927486, 695.7706975164123, 0.00020540617376915677]}\n",
            "{10: [27.900341460980492, 6.14363387945794e-175, 1.4331235073549187e-174, 0.0], 50: [271.2386540694849, 0.0003691777826908605, 0.0003742682334544319, 7.147868967030848e-07], 100: [687.0999592056521, 43.02019132909587, 43.038741603337584, 0.0037597535865198104]}\n"
          ],
          "name": "stdout"
        }
      ]
    },
    {
      "cell_type": "code",
      "metadata": {
        "id": "LtDGADNRt9gE"
      },
      "source": [
        "MU_150_Results = {}\n",
        "MU_150_Results[\"Sphere\"] = list(EA(150,500,50,Sphere_function,True,-5.12,5.12))\n",
        "MU_150_Results[\"Rastrigin\"] = list(EA(150,500,50,Rastrigin_function, True,-5.12,5.12))\n",
        "MU_150_Results[\"Squares\"] = list(EA(150,500,50,Sum_Square,True, -10,10))\n",
        "MU_150_Results[\"Dixon\"] = list(EA(150,500,50,Dixon_function,True,-10,10))\n",
        "MU_150_Results[\"Zakharov\"] = list(EA(150,500,50,Zakharov_function,True, -5,10))\n",
        "\n",
        "Names = [\"Sphere\", \"Rstrigin\", \"Squares\", \"Dixon\", \"Zakharov\"]\n",
        "Numbers = [\"10\",  \"50\", \"100\"]\n",
        "Variables = [\"Best of Gen0\", \"Best of Last Gen\", \"Mean of Last Gen\", \"Variance of last Gen\"]\n",
        "\n"
      ],
      "execution_count": null,
      "outputs": []
    },
    {
      "cell_type": "code",
      "metadata": {
        "colab": {
          "base_uri": "https://localhost:8080/"
        },
        "id": "cYbr4ZIpxaxU",
        "outputId": "98ce6017-bdc4-431b-f92f-68913eee4e8a"
      },
      "source": [
        "pd.set_option(\"display.precision\", 8)\n",
        "\n",
        "print(\"Results of function with MU=150, Lambda = 500 and d=50\")\n",
        "df = pd.DataFrame.from_dict(MU_150_Results, orient = 'index', columns=Variables)\n",
        "print(df)\n",
        "print(\" \")\n",
        "\n",
        "print(\"Results of Zakharov with different d, Mu=500, Lambda = 1500\")\n",
        "df_2 = pd.DataFrame.from_dict(Zakharov_Results, orient='index', columns=Variables)\n",
        "print(df_2)\n",
        "print(\" \")\n",
        "print(\"Results of Sphere with different d, Mu=500, Lambda = 1500\")\n",
        "df_3 = pd.DataFrame.from_dict(Sphere_Results, orient='index', columns=Variables)\n",
        "print(df_3)\n",
        "print(\" \")\n",
        "\n",
        "print(\"Results of Dixon with different d, Mu=500, Lambda = 1500\")\n",
        "df_4 = pd.DataFrame.from_dict(Dixon_Results, orient='index', columns=Variables)\n",
        "print(df_4)\n",
        "print(\" \")\n",
        "\n",
        "print(\"Results of Squares with different d, Mu=500, Lambda = 1500\")\n",
        "df_5 = pd.DataFrame.from_dict(Sum_Square_Results, orient='index', columns=Variables)\n",
        "print(df_5)\n",
        "print(\" \")\n",
        "\n",
        "print(\"Results of Rastrigin with different d, Mu=500, Lambda = 1500\")\n",
        "df_6 = pd.DataFrame.from_dict(Zakharov_Results, orient='index', columns=Variables, dtype= np.float64)\n",
        "print(df_6.head())"
      ],
      "execution_count": null,
      "outputs": [
        {
          "output_type": "stream",
          "text": [
            "Results of function with MU=150, Lambda = 500 and d=50\n",
            "             Best of Gen0  ...  Variance of last Gen\n",
            "Sphere     2.74662598e+02  ...            0.00000105\n",
            "Rastrigin  7.77591163e+02  ...            0.00000018\n",
            "Squares    2.49294324e+04  ...            0.00007308\n",
            "Dixon      5.40420189e+06  ...            0.00000375\n",
            "Zakharov   2.50096662e+07  ...            0.00616405\n",
            "\n",
            "[5 rows x 4 columns]\n",
            " \n",
            "Results of Zakharov with different d, Mu=500, Lambda = 1500\n",
            "       Best of Gen0  Best of Last Gen  Mean of Last Gen  Variance of last Gen\n",
            "10   9.02241897e+01   3.08998623e-119   6.94293203e-119       1.05953689e-119\n",
            "50   2.66697379e+10    3.56217922e+01    3.56276276e+01        1.62198596e-03\n",
            "100  1.86951563e+12    3.37545867e+02    3.38609790e+02        2.37948297e-01\n",
            " \n",
            "Results of Sphere with different d, Mu=500, Lambda = 1500\n",
            "     Best of Gen0  Best of Last Gen  Mean of Last Gen  Variance of last Gen\n",
            "10    27.90034146   6.14363388e-175   1.43312351e-174            0.00000000\n",
            "50   271.23865407    3.69177783e-04    3.74268233e-04            0.00000071\n",
            "100  687.09995921    4.30201913e+01    4.30387416e+01            0.00375975\n",
            " \n",
            "Results of Dixon with different d, Mu=500, Lambda = 1500\n",
            "       Best of Gen0  Best of Last Gen  Mean of Last Gen  Variance of last Gen\n",
            "10   1.61608692e+04    1.60237371e-31    1.60237371e-31            0.00000000\n",
            "50   4.91944751e+06    5.29078252e-01    5.29409297e-01            0.00006962\n",
            "100  1.79378395e+07    5.92544534e+02    5.93728346e+02            0.24838564\n",
            " \n",
            "Results of Squares with different d, Mu=500, Lambda = 1500\n",
            "        Best of Gen0  Best of Last Gen  Mean of Last Gen  Variance of last Gen\n",
            "10      269.56175395   9.91442616e-206   2.11555986e-205            0.00000000\n",
            "50    25192.37726215    2.76288325e-02    2.76289939e-02            0.00000003\n",
            "100  113003.18997676    1.44511802e+03    1.44636800e+03            0.27016295\n",
            " \n",
            "Results of Rastrigin with different d, Mu=500, Lambda = 1500\n",
            "       Best of Gen0  Best of Last Gen  Mean of Last Gen  Variance of last Gen\n",
            "10   9.02241897e+01   3.08998623e-119   6.94293203e-119       1.05953689e-119\n",
            "50   2.66697379e+10    3.56217922e+01    3.56276276e+01        1.62198596e-03\n",
            "100  1.86951563e+12    3.37545867e+02    3.38609790e+02        2.37948297e-01\n"
          ],
          "name": "stdout"
        }
      ]
    }
  ]
}