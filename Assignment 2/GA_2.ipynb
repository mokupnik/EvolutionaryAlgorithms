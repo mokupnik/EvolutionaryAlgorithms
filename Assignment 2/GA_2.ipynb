{
  "nbformat": 4,
  "nbformat_minor": 0,
  "metadata": {
    "colab": {
      "name": "GA_3 ",
      "provenance": [],
      "collapsed_sections": []
    },
    "kernelspec": {
      "name": "python3",
      "display_name": "Python 3"
    }
  },
  "cells": [
    {
      "cell_type": "code",
      "metadata": {
        "id": "Mn456Yngn4Cy"
      },
      "source": [
        "import numpy as np\n",
        "import matplotlib.pyplot as plt\n",
        "import time\n",
        "\n",
        "%matplotlib inline"
      ],
      "execution_count": 2,
      "outputs": []
    },
    {
      "cell_type": "code",
      "metadata": {
        "id": "RTz3yDDywfal"
      },
      "source": [
        "def EA(Mu, Lambda,n,function, plus,x,y):\n",
        "\n",
        "    chromosome_length = n\n",
        "    starting_population = Random_Population(x,y,Mu,n)\n",
        "    number_of_offspring = Lambda\n",
        "    number_of_iterations = 500\n",
        "    population_size = Mu\n",
        "    parents_objective_values = np.zeros(population_size)\n",
        "    current_population = starting_population\n",
        "    parents = current_population\n",
        "    fitness_value_mean = []\n",
        "    \n",
        "    for i in range(Mu):\n",
        "        parents_objective_values[i] = function(current_population[i,0],n)\n",
        "\n",
        "    objective_values = parents_objective_values\n",
        "    max = objective_values.min()\n",
        "\n",
        "    for t in range(number_of_iterations):\n",
        "\n",
        " \n",
        "        ppdb = objective_values.max() - objective_values\n",
        "        if ppdb.sum() > 0:\n",
        "            ppdb = ppdb / ppdb.sum()\n",
        "        else:\n",
        "            ppdb = np.ones(Mu) / population_size\n",
        "\n",
        "\n",
        "        parent_indices = np.random.choice(population_size, number_of_offspring, True, ppdb).astype(np.int64)\n",
        "\n",
        "        \n",
        "\n",
        "        children_population = np.zeros((number_of_offspring, 2,chromosome_length), dtype=np.float64)\n",
        "\n",
        "        for i in range(int(number_of_offspring/2)):\n",
        "            children_population[2*i], children_population[2*i+1] = current_population[parent_indices[2*i]].copy(), current_population[parent_indices[2*i+1]].copy()\n",
        "            if np.mod(number_of_offspring, 2) == 1:\n",
        "                children_population[-1, :] = current_population[parent_indices[-1].copy()]\n",
        "\n",
        "\n",
        "        #mutating children\n",
        "        for i in range(number_of_offspring):\n",
        "                children_population[i] = mutation(children_population[i].copy(),n)\n",
        "\n",
        "\n",
        "\n",
        "\n",
        "        children_objective_values = np.zeros(number_of_offspring)\n",
        "        for i in range(number_of_offspring):\n",
        "            children_objective_values[i] = function(children_population[i,0,:],n)\n",
        "\n",
        "        if plus == True:\n",
        "            objective_values = np.hstack([objective_values.copy(), children_objective_values.copy()])\n",
        "            \n",
        "            I = np.argsort(objective_values)\n",
        "          \n",
        "            I = I[:Mu]\n",
        "            \n",
        "            objective_values = objective_values[I]\n",
        "            current_population = np.vstack([parents.copy(), children_population.copy()])\n",
        "            parents = current_population[I].copy()\n",
        "            current_population = parents.copy()\n",
        "  \n",
        "\n",
        "\n",
        "        else:\n",
        "            objective_values = children_objective_values\n",
        "            I = np.argsort(objective_values)\n",
        "            I = I[:Mu]\n",
        "            objective_values = objective_values[I]\n",
        "\n",
        "            current_population = children_population[I]\n",
        "            \n",
        "        print(objective_values.min(), objective_values.mean(), objective_values.std())\n",
        "  \n",
        "\n",
        "\n",
        "\n",
        "def mutation(P,d):\n",
        "    tz = 4/np.sqrt((2*np.sqrt(d)))\n",
        "    t = 4/np.sqrt(2*d)\n",
        "    n = P.shape[1]\n",
        "    e_0 = np.random.normal(0,tz)\n",
        "    randoms = np.random.normal(0,t,n)  \n",
        "    P[1,:] = P[1,:] * np.exp(randoms + e_0)\n",
        "    randoms = np.random.normal(0,P[1,:],n)\n",
        "    P[0,:] = P[0,:] + randoms\n",
        "    \n",
        "    return P \n",
        "\n",
        "\n",
        "def Random_Population(x,y,Mu,d):\n",
        "    lin = np.linspace(x,y,1000)\n",
        "    X = np.zeros((Mu,2,d))\n",
        "    for x in range(Mu):\n",
        "        X[x,0] = np.random.choice(lin, d)\n",
        "        X[x,1] = np.random.uniform(0,1,size=d)\n",
        "    return X    \n",
        "\n",
        "def Rastrigin_function(x,n):\n",
        "    s = np.sum(x**2-10*np.cos(2*np.pi*x))\n",
        "    y = 10*n + s\n",
        "    return y\n"
      ],
      "execution_count": 8,
      "outputs": []
    },
    {
      "cell_type": "code",
      "metadata": {
        "id": "2Ef3g06rGdn-"
      },
      "source": [
        "\n",
        "\n",
        "def Schewel_function(x,n):\n",
        "    s = np.sum(-x*np.sin(np.sqrt(np.abs(x))));\n",
        "    return 418.9829*n+s;\n",
        "\n",
        "\n",
        "\n",
        "\n",
        "def Sum_Square(x,n): # - 10,10\n",
        "    s = 0\n",
        "    for i in range(n):\n",
        "        s += i*x[i]**2; \n",
        "\n",
        "    return s\n",
        "\n",
        "\n",
        "def Sphere_function(x,n): #-5.12, 5.12\n",
        "    return np.sum(x**2)\n",
        "\n",
        "def Dixon_function(x,n): # -10,10\n",
        "    s=0\n",
        "    for i in range(1,n):\n",
        "        s += i*(2*(x[i]**2) - x[i-1])**2\n",
        "    s += (x[0]-1)**2\n",
        "    return s\n",
        "\n",
        "def Zakharov_function(x,n): # -5,10\n",
        "    s1= 0\n",
        "    s2=0\n",
        "    for i in range(n):\n",
        "        s1 += x[i]**2\n",
        "        s2 += 0.5*i*x[i]\n",
        "    return s1+s2**2+s2**4;\n",
        "\n",
        "\n",
        "Zakharov_Results = {}\n",
        "Zakharov_Results[10]= list(EA(500,1500,10,Zakharov_function,True,-5,10))\n",
        "Zakharov_Results[50]= list(EA(500,1500,50,Zakharov_function,True, -5,10))\n",
        "Zakharov_Results[100]= list(EA(500,1500,100,Zakharov_function,True, -5, 10))\n",
        "\n"
      ],
      "execution_count": null,
      "outputs": []
    },
    {
      "cell_type": "code",
      "metadata": {
        "id": "CVQVnOghhFVB"
      },
      "source": [
        "Dixon_Results = {}\n",
        "Dixon_Results[10] = list(EA(500,1500,10,Dixon_function,True,-10,10))\n",
        "Dixon_Results[50] = list(EA(500,1500,50,Dixon_function,True,-10,10))\n",
        "Dixon_Results[100] = list(EA(500,1500,100,Dixon_function,True,-10,10))"
      ],
      "execution_count": null,
      "outputs": []
    },
    {
      "cell_type": "code",
      "metadata": {
        "id": "chnaa8r5R21h"
      },
      "source": [
        "\n",
        "Sum_Square_Results = {}\n",
        "Sum_Square_Results[10] = list(EA(500,1500,10,Sum_Square,True, -10,10))\n",
        "Sum_Square_Results[50] = list(EA(500,1500,50,Sum_Square,True, -10,10))\n",
        "Sum_Square_Results[100] = list(EA(500,1500,100,Sum_Square,True, -10,10))\n"
      ],
      "execution_count": null,
      "outputs": []
    },
    {
      "cell_type": "code",
      "metadata": {
        "id": "q7Nc-SUghUxJ"
      },
      "source": [
        "Rastrigin_Results = {}\n",
        "Rastrigin_Results[50] = list(EA(500,1500,50,Rastrigin_function, True,-5.12,5.12))\n",
        "Rastrigin_Results[10] = list(EA(500,1500,10,Rastrigin_function, True,-5.12,5.12))\n",
        "Rastrigin_Results[100] = list(EA(500,1500,100,Rastrigin_function, True,-5.12,5.12))"
      ],
      "execution_count": null,
      "outputs": []
    },
    {
      "cell_type": "code",
      "metadata": {
        "id": "J-PZu_Ofqaqs"
      },
      "source": [
        "Sphere_Results = {}\n",
        "Sphere_Results[10] = list(EA(500,1500,10,Sphere_function,True,-5.12,5.12))\n",
        "Sphere_Results[50] = list(EA(500,1500,50,Sphere_function,True,-5.12,5.12))\n",
        "Sphere_Results[100] = list(EA(500,1500,100,Sphere_function,True,-5.12,5.12))\n"
      ],
      "execution_count": null,
      "outputs": []
    },
    {
      "cell_type": "code",
      "metadata": {
        "id": "LtDGADNRt9gE"
      },
      "source": [
        "MU_150_Results = {}\n",
        "MU_150_Results[\"Sphere\"] = list(EA(150,500,50,Sphere_function,True,-5.12,5.12))\n",
        "MU_150_Results[\"Rastrigin\"] = list(EA(150,500,50,Rastrigin_function, True,-5.12,5.12))\n",
        "MU_150_Results[\"Squares\"] = list(EA(150,500,50,Sum_Square,True, -10,10))\n",
        "MU_150_Results[\"Dixon\"] = list(EA(150,500,50,Dixon_function,True,-10,10))\n",
        "MU_150_Results[\"Zakharov\"] = list(EA(150,500,50,Zakharov_function,True, -5,10))\n",
        "\n"
      ],
      "execution_count": null,
      "outputs": []
    },
    {
      "cell_type": "code",
      "metadata": {
        "id": "vil6eY5DwDQ8"
      },
      "source": [
        "import pandas as pd\n",
        "Names = [\"Sphere\", \"Rstrigin\", \"Squares\", \"Dixon\", \"Zakharov\"]\n",
        "Numbers = [\"10\",  \"50\", \"100\"]\n",
        "Variables = [\"Best of Gen0\", \"Best of Last Gen\", \"Mean of Last Gen\", \"Variance of last Gen\"]\n"
      ],
      "execution_count": null,
      "outputs": []
    },
    {
      "cell_type": "code",
      "metadata": {
        "id": "cYbr4ZIpxaxU"
      },
      "source": [
        "df = pd.DataFrame.from_dict(MU_150_Results, orient = 'index', columns=Variables)\n",
        "\n",
        "\n",
        "df_2 = pd.DataFrame.from_dict(Zakharov_Results, orient='index', columns=Variables)\n",
        "\n",
        "df_3 = pd.DataFrame.from_dict(Sphere_Results, orient='index', columns=Variables)\n",
        "\n",
        "df_4 = pd.DataFrame.from_dict(Dixon_Results, orient='index', columns=Variables)\n",
        "\n",
        "\n",
        "df_5 = pd.DataFrame.from_dict(Sum_Square_Results, orient='index', columns=Variables)\n",
        "\n",
        "df_6 = pd.DataFrame.from_dict(Rastrigin_Results, orient='index', columns=Variables, dtype= np.float64)\n"
      ],
      "execution_count": null,
      "outputs": []
    },
    {
      "cell_type": "code",
      "metadata": {
        "colab": {
          "base_uri": "https://localhost:8080/",
          "height": 221
        },
        "id": "T39JTx422PMR",
        "outputId": "8f0a0696-1513-4701-c0a4-cb8af7fafba2"
      },
      "source": [
        "pd.set_option(\"display.precision\", 20)\n",
        "print(\"Results of functions with d=50, Mu=150, Lambda = 500\")\n",
        "df"
      ],
      "execution_count": null,
      "outputs": [
        {
          "output_type": "stream",
          "text": [
            "Results of functions with d=50, Mu=150, Lambda = 500\n"
          ],
          "name": "stdout"
        },
        {
          "output_type": "execute_result",
          "data": {
            "text/html": [
              "<div>\n",
              "<style scoped>\n",
              "    .dataframe tbody tr th:only-of-type {\n",
              "        vertical-align: middle;\n",
              "    }\n",
              "\n",
              "    .dataframe tbody tr th {\n",
              "        vertical-align: top;\n",
              "    }\n",
              "\n",
              "    .dataframe thead th {\n",
              "        text-align: right;\n",
              "    }\n",
              "</style>\n",
              "<table border=\"1\" class=\"dataframe\">\n",
              "  <thead>\n",
              "    <tr style=\"text-align: right;\">\n",
              "      <th></th>\n",
              "      <th>Best of Gen0</th>\n",
              "      <th>Best of Last Gen</th>\n",
              "      <th>Mean of Last Gen</th>\n",
              "      <th>Variance of last Gen</th>\n",
              "    </tr>\n",
              "  </thead>\n",
              "  <tbody>\n",
              "    <tr>\n",
              "      <th>Sphere</th>\n",
              "      <td>2.74662598002206436831e+02</td>\n",
              "      <td>0.02821865797355613964</td>\n",
              "      <td>0.02822259702760033379</td>\n",
              "      <td>0.00000104911182996271</td>\n",
              "    </tr>\n",
              "    <tr>\n",
              "      <th>Rastrigin</th>\n",
              "      <td>7.77591162665626143280e+02</td>\n",
              "      <td>258.68796023433947084413</td>\n",
              "      <td>258.68796089866674492441</td>\n",
              "      <td>0.00000018283157155213</td>\n",
              "    </tr>\n",
              "    <tr>\n",
              "      <th>Squares</th>\n",
              "      <td>2.49294324354384480102e+04</td>\n",
              "      <td>0.29841613207227962734</td>\n",
              "      <td>0.29875244465369199531</td>\n",
              "      <td>0.00007307753004677377</td>\n",
              "    </tr>\n",
              "    <tr>\n",
              "      <th>Dixon</th>\n",
              "      <td>5.40420189426133502275e+06</td>\n",
              "      <td>1.00149656374249840241</td>\n",
              "      <td>1.00151177144367187211</td>\n",
              "      <td>0.00000375408369950946</td>\n",
              "    </tr>\n",
              "    <tr>\n",
              "      <th>Zakharov</th>\n",
              "      <td>2.50096662077372968197e+07</td>\n",
              "      <td>152.02703248758174936484</td>\n",
              "      <td>152.05233876069198117875</td>\n",
              "      <td>0.00616404767752559875</td>\n",
              "    </tr>\n",
              "  </tbody>\n",
              "</table>\n",
              "</div>"
            ],
            "text/plain": [
              "                         Best of Gen0  ...    Variance of last Gen\n",
              "Sphere     2.74662598002206436831e+02  ...  0.00000104911182996271\n",
              "Rastrigin  7.77591162665626143280e+02  ...  0.00000018283157155213\n",
              "Squares    2.49294324354384480102e+04  ...  0.00007307753004677377\n",
              "Dixon      5.40420189426133502275e+06  ...  0.00000375408369950946\n",
              "Zakharov   2.50096662077372968197e+07  ...  0.00616404767752559875\n",
              "\n",
              "[5 rows x 4 columns]"
            ]
          },
          "metadata": {
            "tags": []
          },
          "execution_count": 170
        }
      ]
    },
    {
      "cell_type": "code",
      "metadata": {
        "colab": {
          "base_uri": "https://localhost:8080/",
          "height": 159
        },
        "id": "oLOfFiH9ACQ-",
        "outputId": "0a9811df-cc36-4e0b-f408-c0261259afae"
      },
      "source": [
        "print(\"Zakharov function results for different D, Mu=500, Lambda = 1500\")\n",
        "df_2"
      ],
      "execution_count": null,
      "outputs": [
        {
          "output_type": "stream",
          "text": [
            "Zakharov function results for different D, Mu=500, Lambda = 1500\n"
          ],
          "name": "stdout"
        },
        {
          "output_type": "execute_result",
          "data": {
            "text/html": [
              "<div>\n",
              "<style scoped>\n",
              "    .dataframe tbody tr th:only-of-type {\n",
              "        vertical-align: middle;\n",
              "    }\n",
              "\n",
              "    .dataframe tbody tr th {\n",
              "        vertical-align: top;\n",
              "    }\n",
              "\n",
              "    .dataframe thead th {\n",
              "        text-align: right;\n",
              "    }\n",
              "</style>\n",
              "<table border=\"1\" class=\"dataframe\">\n",
              "  <thead>\n",
              "    <tr style=\"text-align: right;\">\n",
              "      <th></th>\n",
              "      <th>Best of Gen0</th>\n",
              "      <th>Best of Last Gen</th>\n",
              "      <th>Mean of Last Gen</th>\n",
              "      <th>Variance of last Gen</th>\n",
              "    </tr>\n",
              "  </thead>\n",
              "  <tbody>\n",
              "    <tr>\n",
              "      <th>10</th>\n",
              "      <td>9.02241897351289310336e+01</td>\n",
              "      <td>3.08998623363074361684e-119</td>\n",
              "      <td>6.94293202644551427665e-119</td>\n",
              "      <td>1.05953689387055221535e-119</td>\n",
              "    </tr>\n",
              "    <tr>\n",
              "      <th>50</th>\n",
              "      <td>2.66697378997733116150e+10</td>\n",
              "      <td>3.56217921705528155485e+01</td>\n",
              "      <td>3.56276275975858141010e+01</td>\n",
              "      <td>1.62198595566369081072e-03</td>\n",
              "    </tr>\n",
              "    <tr>\n",
              "      <th>100</th>\n",
              "      <td>1.86951563073394262695e+12</td>\n",
              "      <td>3.37545867039910206131e+02</td>\n",
              "      <td>3.38609790117506690876e+02</td>\n",
              "      <td>2.37948296831120564843e-01</td>\n",
              "    </tr>\n",
              "  </tbody>\n",
              "</table>\n",
              "</div>"
            ],
            "text/plain": [
              "                   Best of Gen0  ...         Variance of last Gen\n",
              "10   9.02241897351289310336e+01  ...  1.05953689387055221535e-119\n",
              "50   2.66697378997733116150e+10  ...   1.62198595566369081072e-03\n",
              "100  1.86951563073394262695e+12  ...   2.37948296831120564843e-01\n",
              "\n",
              "[3 rows x 4 columns]"
            ]
          },
          "metadata": {
            "tags": []
          },
          "execution_count": 134
        }
      ]
    },
    {
      "cell_type": "code",
      "metadata": {
        "colab": {
          "base_uri": "https://localhost:8080/",
          "height": 159
        },
        "id": "jAbloUB7AfHE",
        "outputId": "21661c7e-94a9-4c49-ab5d-4cb3dd0a09b1"
      },
      "source": [
        "print(\"Sphere function results for different D, Mu=500, Lambda = 1500\")\n",
        "df_3"
      ],
      "execution_count": null,
      "outputs": [
        {
          "output_type": "stream",
          "text": [
            "Sphere function results for different D, Mu=500, Lambda = 1500\n"
          ],
          "name": "stdout"
        },
        {
          "output_type": "execute_result",
          "data": {
            "text/html": [
              "<div>\n",
              "<style scoped>\n",
              "    .dataframe tbody tr th:only-of-type {\n",
              "        vertical-align: middle;\n",
              "    }\n",
              "\n",
              "    .dataframe tbody tr th {\n",
              "        vertical-align: top;\n",
              "    }\n",
              "\n",
              "    .dataframe thead th {\n",
              "        text-align: right;\n",
              "    }\n",
              "</style>\n",
              "<table border=\"1\" class=\"dataframe\">\n",
              "  <thead>\n",
              "    <tr style=\"text-align: right;\">\n",
              "      <th></th>\n",
              "      <th>Best of Gen0</th>\n",
              "      <th>Best of Last Gen</th>\n",
              "      <th>Mean of Last Gen</th>\n",
              "      <th>Variance of last Gen</th>\n",
              "    </tr>\n",
              "  </thead>\n",
              "  <tbody>\n",
              "    <tr>\n",
              "      <th>10</th>\n",
              "      <td>27.90034146098049205875</td>\n",
              "      <td>6.14363387945793958267e-175</td>\n",
              "      <td>1.43312350735491873822e-174</td>\n",
              "      <td>0.00000000000000000000</td>\n",
              "    </tr>\n",
              "    <tr>\n",
              "      <th>50</th>\n",
              "      <td>271.23865406948488043781</td>\n",
              "      <td>3.69177782690860521037e-04</td>\n",
              "      <td>3.74268233454431921859e-04</td>\n",
              "      <td>0.00000071478689670308</td>\n",
              "    </tr>\n",
              "    <tr>\n",
              "      <th>100</th>\n",
              "      <td>687.09995920565211235953</td>\n",
              "      <td>4.30201913290958728453e+01</td>\n",
              "      <td>4.30387416033375842517e+01</td>\n",
              "      <td>0.00375975358651981038</td>\n",
              "    </tr>\n",
              "  </tbody>\n",
              "</table>\n",
              "</div>"
            ],
            "text/plain": [
              "                 Best of Gen0  ...    Variance of last Gen\n",
              "10    27.90034146098049205875  ...  0.00000000000000000000\n",
              "50   271.23865406948488043781  ...  0.00000071478689670308\n",
              "100  687.09995920565211235953  ...  0.00375975358651981038\n",
              "\n",
              "[3 rows x 4 columns]"
            ]
          },
          "metadata": {
            "tags": []
          },
          "execution_count": 135
        }
      ]
    },
    {
      "cell_type": "code",
      "metadata": {
        "colab": {
          "base_uri": "https://localhost:8080/",
          "height": 159
        },
        "id": "Gd6asH8aAfXq",
        "outputId": "88b08755-3fc2-4290-9741-9a74ba8d985d"
      },
      "source": [
        "print(\"Dixon function results for different D, Mu=500, Lambda = 1500\")\n",
        "df_4"
      ],
      "execution_count": null,
      "outputs": [
        {
          "output_type": "stream",
          "text": [
            "Dixon function results for different D, Mu=500, Lambda = 1500\n"
          ],
          "name": "stdout"
        },
        {
          "output_type": "execute_result",
          "data": {
            "text/html": [
              "<div>\n",
              "<style scoped>\n",
              "    .dataframe tbody tr th:only-of-type {\n",
              "        vertical-align: middle;\n",
              "    }\n",
              "\n",
              "    .dataframe tbody tr th {\n",
              "        vertical-align: top;\n",
              "    }\n",
              "\n",
              "    .dataframe thead th {\n",
              "        text-align: right;\n",
              "    }\n",
              "</style>\n",
              "<table border=\"1\" class=\"dataframe\">\n",
              "  <thead>\n",
              "    <tr style=\"text-align: right;\">\n",
              "      <th></th>\n",
              "      <th>Best of Gen0</th>\n",
              "      <th>Best of Last Gen</th>\n",
              "      <th>Mean of Last Gen</th>\n",
              "      <th>Variance of last Gen</th>\n",
              "    </tr>\n",
              "  </thead>\n",
              "  <tbody>\n",
              "    <tr>\n",
              "      <th>10</th>\n",
              "      <td>1.61608692281755047588e+04</td>\n",
              "      <td>1.60237371373018022974e-31</td>\n",
              "      <td>1.60237371373018022974e-31</td>\n",
              "      <td>0.00000000000000000000</td>\n",
              "    </tr>\n",
              "    <tr>\n",
              "      <th>50</th>\n",
              "      <td>4.91944750558133516461e+06</td>\n",
              "      <td>5.29078252077582855684e-01</td>\n",
              "      <td>5.29409296841598875361e-01</td>\n",
              "      <td>0.00006961826214427517</td>\n",
              "    </tr>\n",
              "    <tr>\n",
              "      <th>100</th>\n",
              "      <td>1.79378394762319810688e+07</td>\n",
              "      <td>5.92544534164119454545e+02</td>\n",
              "      <td>5.93728346259157092391e+02</td>\n",
              "      <td>0.24838563781623992921</td>\n",
              "    </tr>\n",
              "  </tbody>\n",
              "</table>\n",
              "</div>"
            ],
            "text/plain": [
              "                   Best of Gen0  ...    Variance of last Gen\n",
              "10   1.61608692281755047588e+04  ...  0.00000000000000000000\n",
              "50   4.91944750558133516461e+06  ...  0.00006961826214427517\n",
              "100  1.79378394762319810688e+07  ...  0.24838563781623992921\n",
              "\n",
              "[3 rows x 4 columns]"
            ]
          },
          "metadata": {
            "tags": []
          },
          "execution_count": 136
        }
      ]
    },
    {
      "cell_type": "code",
      "metadata": {
        "colab": {
          "base_uri": "https://localhost:8080/",
          "height": 159
        },
        "id": "O1iiI4DGAfmC",
        "outputId": "ffbc991e-f93f-4d42-fa0a-912b31617bee"
      },
      "source": [
        "print(\"Sum of Squares function results for different D, Mu=500, Lambda = 1500\")\n",
        "df_5"
      ],
      "execution_count": null,
      "outputs": [
        {
          "output_type": "stream",
          "text": [
            "Sum of Squares function results for different D, Mu=500, Lambda = 1500\n"
          ],
          "name": "stdout"
        },
        {
          "output_type": "execute_result",
          "data": {
            "text/html": [
              "<div>\n",
              "<style scoped>\n",
              "    .dataframe tbody tr th:only-of-type {\n",
              "        vertical-align: middle;\n",
              "    }\n",
              "\n",
              "    .dataframe tbody tr th {\n",
              "        vertical-align: top;\n",
              "    }\n",
              "\n",
              "    .dataframe thead th {\n",
              "        text-align: right;\n",
              "    }\n",
              "</style>\n",
              "<table border=\"1\" class=\"dataframe\">\n",
              "  <thead>\n",
              "    <tr style=\"text-align: right;\">\n",
              "      <th></th>\n",
              "      <th>Best of Gen0</th>\n",
              "      <th>Best of Last Gen</th>\n",
              "      <th>Mean of Last Gen</th>\n",
              "      <th>Variance of last Gen</th>\n",
              "    </tr>\n",
              "  </thead>\n",
              "  <tbody>\n",
              "    <tr>\n",
              "      <th>10</th>\n",
              "      <td>269.56175394613831031165</td>\n",
              "      <td>9.91442615505320518489e-206</td>\n",
              "      <td>2.11555986253076568169e-205</td>\n",
              "      <td>0.00000000000000000000</td>\n",
              "    </tr>\n",
              "    <tr>\n",
              "      <th>50</th>\n",
              "      <td>25192.37726214703798177652</td>\n",
              "      <td>2.76288325354068463324e-02</td>\n",
              "      <td>2.76289938663371210936e-02</td>\n",
              "      <td>0.00000003307148445752</td>\n",
              "    </tr>\n",
              "    <tr>\n",
              "      <th>100</th>\n",
              "      <td>113003.18997676357685122639</td>\n",
              "      <td>1.44511802389160629900e+03</td>\n",
              "      <td>1.44636800198001697026e+03</td>\n",
              "      <td>0.27016295325307465580</td>\n",
              "    </tr>\n",
              "  </tbody>\n",
              "</table>\n",
              "</div>"
            ],
            "text/plain": [
              "                    Best of Gen0  ...    Variance of last Gen\n",
              "10      269.56175394613831031165  ...  0.00000000000000000000\n",
              "50    25192.37726214703798177652  ...  0.00000003307148445752\n",
              "100  113003.18997676357685122639  ...  0.27016295325307465580\n",
              "\n",
              "[3 rows x 4 columns]"
            ]
          },
          "metadata": {
            "tags": []
          },
          "execution_count": 137
        }
      ]
    },
    {
      "cell_type": "code",
      "metadata": {
        "colab": {
          "base_uri": "https://localhost:8080/",
          "height": 159
        },
        "id": "irJEGV4XAfya",
        "outputId": "1bb3cab4-a8e6-473e-a6e8-1f837dc8f10c"
      },
      "source": [
        "print(\"Rastrigin function results for different D, Mu=500, Lambda = 1500\")\n",
        "df_6"
      ],
      "execution_count": null,
      "outputs": [
        {
          "output_type": "stream",
          "text": [
            "Rastrigin function results for different D, Mu=500, Lambda = 1500\n"
          ],
          "name": "stdout"
        },
        {
          "output_type": "execute_result",
          "data": {
            "text/html": [
              "<div>\n",
              "<style scoped>\n",
              "    .dataframe tbody tr th:only-of-type {\n",
              "        vertical-align: middle;\n",
              "    }\n",
              "\n",
              "    .dataframe tbody tr th {\n",
              "        vertical-align: top;\n",
              "    }\n",
              "\n",
              "    .dataframe thead th {\n",
              "        text-align: right;\n",
              "    }\n",
              "</style>\n",
              "<table border=\"1\" class=\"dataframe\">\n",
              "  <thead>\n",
              "    <tr style=\"text-align: right;\">\n",
              "      <th></th>\n",
              "      <th>Best of Gen0</th>\n",
              "      <th>Best of Last Gen</th>\n",
              "      <th>Mean of Last Gen</th>\n",
              "      <th>Variance of last Gen</th>\n",
              "    </tr>\n",
              "  </thead>\n",
              "  <tbody>\n",
              "    <tr>\n",
              "      <th>10</th>\n",
              "      <td>9.02241897351289310336e+01</td>\n",
              "      <td>3.08998623363074361684e-119</td>\n",
              "      <td>6.94293202644551427665e-119</td>\n",
              "      <td>1.05953689387055221535e-119</td>\n",
              "    </tr>\n",
              "    <tr>\n",
              "      <th>50</th>\n",
              "      <td>2.66697378997733116150e+10</td>\n",
              "      <td>3.56217921705528155485e+01</td>\n",
              "      <td>3.56276275975858141010e+01</td>\n",
              "      <td>1.62198595566369081072e-03</td>\n",
              "    </tr>\n",
              "    <tr>\n",
              "      <th>100</th>\n",
              "      <td>1.86951563073394262695e+12</td>\n",
              "      <td>3.37545867039910206131e+02</td>\n",
              "      <td>3.38609790117506690876e+02</td>\n",
              "      <td>2.37948296831120564843e-01</td>\n",
              "    </tr>\n",
              "  </tbody>\n",
              "</table>\n",
              "</div>"
            ],
            "text/plain": [
              "                   Best of Gen0  ...         Variance of last Gen\n",
              "10   9.02241897351289310336e+01  ...  1.05953689387055221535e-119\n",
              "50   2.66697378997733116150e+10  ...   1.62198595566369081072e-03\n",
              "100  1.86951563073394262695e+12  ...   2.37948296831120564843e-01\n",
              "\n",
              "[3 rows x 4 columns]"
            ]
          },
          "metadata": {
            "tags": []
          },
          "execution_count": 138
        }
      ]
    },
    {
      "cell_type": "code",
      "metadata": {
        "colab": {
          "base_uri": "https://localhost:8080/",
          "height": 516
        },
        "id": "559Hs1P1TURM",
        "outputId": "037b19c5-8d8e-44fa-8885-f290a24e8f6d"
      },
      "source": [
        "names = [Zakharov_Results, Sphere_Results, Dixon_Results, Sum_Square_Results, Rastrigin_Results]\n",
        "Results = []\n",
        "for x in names:\n",
        "    Results.append(x[10][0])\n",
        "    Results.append(x[50][0])\n",
        "    Results.append(x[100][0])\n",
        "\n",
        "figs, axs = plt.subplots(1,5, figsize=(14,8))\n",
        "axs[0].plot(Results[:3])\n",
        "axs[0].set_title(\"Zakharov Results\")\n",
        "axs[1].plot(Results[3:6])\n",
        "axs[1].set_title(\"Sphere Results\")\n",
        "axs[2].plot(Results[6:9])\n",
        "axs[2].set_title(\"Dixon Results\")\n",
        "axs[3].plot(Results[9:12])\n",
        "axs[3].set_title(\"Sum of Squares Results\")\n",
        "axs[4].plot(Results[12:])\n",
        "axs[4].set_title(\"Rastrigin Results\")\n"
      ],
      "execution_count": null,
      "outputs": [
        {
          "output_type": "execute_result",
          "data": {
            "text/plain": [
              "Text(0.5, 1.0, 'Rastrigin Results')"
            ]
          },
          "metadata": {
            "tags": []
          },
          "execution_count": 166
        },
        {
          "output_type": "display_data",
          "data": {
            "image/png": "[encoded data removed]",
            "text/plain": [
              "<Figure size 1008x576 with 5 Axes>"
            ]
          },
          "metadata": {
            "tags": [],
            "needs_background": "light"
          }
        }
      ]
    },
    {
      "cell_type": "code",
      "metadata": {
        "id": "S6dyXkA1ijfd"
      },
      "source": [
        "EA(1000, 2000, 50, Rastrigin_function, True, -5.12,5.12)"
      ],
      "execution_count": null,
      "outputs": []
    }
  ]
}